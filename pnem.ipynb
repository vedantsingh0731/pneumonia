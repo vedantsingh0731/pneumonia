{
 "cells": [
  {
   "cell_type": "code",
   "execution_count": 1,
   "metadata": {},
   "outputs": [],
   "source": [
    "from keras.models import Model\n",
    "from keras.layers import Flatten,Dense\n",
    "from keras.applications.vgg16 import VGG16 #Import all the necessary modules\n",
    "import matplotlib.pyplot as plot"
   ]
  },
  {
   "cell_type": "code",
   "execution_count": 2,
   "metadata": {},
   "outputs": [],
   "source": [
    "from glob import glob\n",
    "IMAGESHAPE = [224, 224, 3] #Provide image size as 224 x 224 this is a fixed-size for VGG16 architecture\n",
    "vgg_model = VGG16(input_shape=IMAGESHAPE, weights='imagenet', include_top=False)\n",
    "#3 signifies that we are working with RGB type of images.\n",
    "training_data = 'chest_xray/train'\n",
    "testing_data = 'chest_xray/test' #Give our training and testing path"
   ]
  },
  {
   "cell_type": "code",
   "execution_count": 3,
   "metadata": {},
   "outputs": [
    {
     "name": "stdout",
     "output_type": "stream",
     "text": [
      "Model: \"model\"\n",
      "_________________________________________________________________\n",
      " Layer (type)                Output Shape              Param #   \n",
      "=================================================================\n",
      " input_1 (InputLayer)        [(None, 224, 224, 3)]     0         \n",
      "                                                                 \n",
      " block1_conv1 (Conv2D)       (None, 224, 224, 64)      1792      \n",
      "                                                                 \n",
      " block1_conv2 (Conv2D)       (None, 224, 224, 64)      36928     \n",
      "                                                                 \n",
      " block1_pool (MaxPooling2D)  (None, 112, 112, 64)      0         \n",
      "                                                                 \n",
      " block2_conv1 (Conv2D)       (None, 112, 112, 128)     73856     \n",
      "                                                                 \n",
      " block2_conv2 (Conv2D)       (None, 112, 112, 128)     147584    \n",
      "                                                                 \n",
      " block2_pool (MaxPooling2D)  (None, 56, 56, 128)       0         \n",
      "                                                                 \n",
      " block3_conv1 (Conv2D)       (None, 56, 56, 256)       295168    \n",
      "                                                                 \n",
      " block3_conv2 (Conv2D)       (None, 56, 56, 256)       590080    \n",
      "                                                                 \n",
      " block3_conv3 (Conv2D)       (None, 56, 56, 256)       590080    \n",
      "                                                                 \n",
      " block3_pool (MaxPooling2D)  (None, 28, 28, 256)       0         \n",
      "                                                                 \n",
      " block4_conv1 (Conv2D)       (None, 28, 28, 512)       1180160   \n",
      "                                                                 \n",
      " block4_conv2 (Conv2D)       (None, 28, 28, 512)       2359808   \n",
      "                                                                 \n",
      " block4_conv3 (Conv2D)       (None, 28, 28, 512)       2359808   \n",
      "                                                                 \n",
      " block4_pool (MaxPooling2D)  (None, 14, 14, 512)       0         \n",
      "                                                                 \n",
      " block5_conv1 (Conv2D)       (None, 14, 14, 512)       2359808   \n",
      "                                                                 \n",
      " block5_conv2 (Conv2D)       (None, 14, 14, 512)       2359808   \n",
      "                                                                 \n",
      " block5_conv3 (Conv2D)       (None, 14, 14, 512)       2359808   \n",
      "                                                                 \n",
      " block5_pool (MaxPooling2D)  (None, 7, 7, 512)         0         \n",
      "                                                                 \n",
      " flatten (Flatten)           (None, 25088)             0         \n",
      "                                                                 \n",
      " dense (Dense)               (None, 2)                 50178     \n",
      "                                                                 \n",
      "=================================================================\n",
      "Total params: 14,764,866\n",
      "Trainable params: 50,178\n",
      "Non-trainable params: 14,714,688\n",
      "_________________________________________________________________\n"
     ]
    }
   ],
   "source": [
    "for each_layer in vgg_model.layers:\n",
    "\teach_layer.trainable = False #Set the trainable as False, So that all the layers would not be trained.\n",
    "classes = glob('chest_xray/train/*') #Finding how many classes present in our train dataset.\n",
    "flatten_layer = Flatten()(vgg_model.output)\n",
    "prediction = Dense(len(classes), activation='softmax')(flatten_layer)\n",
    "final_model = Model(inputs=vgg_model.input, outputs=prediction) #Combine the VGG output and prediction , this all together will create a model.\n",
    "final_model.summary() #Displaying the summary\n",
    "final_model.compile( #Compiling our model using adam optimizer and optimization metric as accuracy.\n",
    "loss='categorical_crossentropy',\n",
    "optimizer='adam',\n",
    "metrics=['accuracy']\n",
    ")"
   ]
  },
  {
   "cell_type": "code",
   "execution_count": 4,
   "metadata": {},
   "outputs": [
    {
     "name": "stdout",
     "output_type": "stream",
     "text": [
      "Found 5216 images belonging to 2 classes.\n",
      "Found 624 images belonging to 2 classes.\n"
     ]
    },
    {
     "name": "stderr",
     "output_type": "stream",
     "text": [
      "C:\\Users\\HP\\AppData\\Local\\Temp\\ipykernel_12576\\2470935531.py:15: UserWarning: `Model.fit_generator` is deprecated and will be removed in a future version. Please use `Model.fit`, which supports generators.\n",
      "  fitted_model = final_model.fit_generator( #Fitting the model.\n"
     ]
    },
    {
     "name": "stdout",
     "output_type": "stream",
     "text": [
      "Epoch 1/5\n",
      "1304/1304 [==============================] - 774s 593ms/step - loss: 0.2824 - accuracy: 0.9189 - val_loss: 0.3783 - val_accuracy: 0.9151\n",
      "Epoch 2/5\n",
      "1304/1304 [==============================] - 655s 503ms/step - loss: 0.2802 - accuracy: 0.9413 - val_loss: 0.4851 - val_accuracy: 0.9054\n",
      "Epoch 3/5\n",
      "1304/1304 [==============================] - 657s 503ms/step - loss: 0.2127 - accuracy: 0.9553 - val_loss: 1.5685 - val_accuracy: 0.8269\n",
      "Epoch 4/5\n",
      "1304/1304 [==============================] - 627s 481ms/step - loss: 0.2676 - accuracy: 0.9542 - val_loss: 0.6412 - val_accuracy: 0.9071\n",
      "Epoch 5/5\n",
      "1304/1304 [==============================] - 653s 500ms/step - loss: 0.2332 - accuracy: 0.9615 - val_loss: 0.7508 - val_accuracy: 0.9087\n"
     ]
    }
   ],
   "source": [
    "from keras.preprocessing.image import ImageDataGenerator\n",
    "train_datagen = ImageDataGenerator(rescale = 1./255, #importing our dataset to keras using ImageDataGenerator in keras.\n",
    "\t\t\t\t\t\t\t\tshear_range = 0.2,\n",
    "\t\t\t\t\t\t\t\tzoom_range = 0.2,\n",
    "\t\t\t\t\t\t\t\thorizontal_flip = True)\n",
    "testing_datagen = ImageDataGenerator(rescale =1. / 255)\n",
    "training_set = train_datagen.flow_from_directory('chest_xray/train', #inserting the images.\n",
    "\t\t\t\t\t\t\t\t\t\t\t\ttarget_size = (224, 224),\n",
    "\t\t\t\t\t\t\t\t\t\t\t\tbatch_size = 4,\n",
    "\t\t\t\t\t\t\t\t\t\t\t\tclass_mode = 'categorical')\n",
    "test_set = testing_datagen.flow_from_directory('chest_xray/test',\n",
    "\t\t\t\t\t\t\t\t\t\t\ttarget_size = (224, 224),\n",
    "\t\t\t\t\t\t\t\t\t\t\tbatch_size = 4,\n",
    "\t\t\t\t\t\t\t\t\t\t\tclass_mode = 'categorical')\n",
    "fitted_model = final_model.fit_generator( #Fitting the model.\n",
    "training_set,\n",
    "validation_data=test_set,\n",
    "epochs=5,\n",
    "steps_per_epoch=len(training_set),\n",
    "validation_steps=len(test_set)\n",
    ")"
   ]
  },
  {
   "cell_type": "code",
   "execution_count": 8,
   "metadata": {},
   "outputs": [],
   "source": [
    "# plot.plot(fitted_model.history['loss'], label='training loss') #Plotting the accuracies\n",
    "# plot.plot(fitted_model.history['val_loss'], label='validation loss')\n",
    "# plot.legend()\n",
    "# plot.show()\n",
    "# plot.savefig('LossVal_loss')\n",
    "# plot.plot(fitted_model.history['acc'], label='training accuracy')\n",
    "# plot.plot(fitted_model.history['val_acc'], label='validation accuracy')\n",
    "# plot.legend()\n",
    "# plot.show()\n",
    "# plot.savefig('AccVal_acc')\n",
    "final_model.save('our_model.h5') #Saving the model file.\n"
   ]
  },
  {
   "cell_type": "code",
   "execution_count": 5,
   "metadata": {},
   "outputs": [],
   "source": [
    "#  testing the model"
   ]
  },
  {
   "cell_type": "code",
   "execution_count": 2,
   "metadata": {},
   "outputs": [],
   "source": [
    "from keras_preprocessing import image\n",
    "from keras.models import load_model\n",
    "from keras.applications.vgg16 import preprocess_input\n",
    "import numpy as np"
   ]
  },
  {
   "cell_type": "code",
   "execution_count": 4,
   "metadata": {},
   "outputs": [],
   "source": [
    "model=load_model('our_model.h5') #Loading our model"
   ]
  },
  {
   "cell_type": "code",
   "execution_count": 12,
   "metadata": {},
   "outputs": [],
   "source": [
    "to_test_image = image.load_img('C:/Users/HP/OneDrive/Desktop/minor2/chest_xray/val/NORMAL/NORMAL2-IM-1431-0001.jpeg', target_size=(224, 224)) #Loading the image to test"
   ]
  },
  {
   "cell_type": "code",
   "execution_count": 14,
   "metadata": {},
   "outputs": [
    {
     "name": "stdout",
     "output_type": "stream",
     "text": [
      "(224, 224)\n"
     ]
    }
   ],
   "source": [
    "print(to_test_image.size) "
   ]
  },
  {
   "cell_type": "code",
   "execution_count": 21,
   "metadata": {},
   "outputs": [],
   "source": [
    "imagee=image.img_to_array(to_test_image) #Converting the X-Ray into pixels\n",
    "imagee=np.expand_dims(imagee, axis=0)\n",
    "img_data=preprocess_input(imagee)"
   ]
  },
  {
   "cell_type": "code",
   "execution_count": 22,
   "metadata": {},
   "outputs": [
    {
     "name": "stdout",
     "output_type": "stream",
     "text": [
      "(1, 224, 224, 3)\n"
     ]
    }
   ],
   "source": [
    "print(img_data.shape)"
   ]
  },
  {
   "cell_type": "code",
   "execution_count": 24,
   "metadata": {},
   "outputs": [
    {
     "name": "stdout",
     "output_type": "stream",
     "text": [
      "1/1 [==============================] - 0s 147ms/step\n",
      "Person is safe.\n",
      "Predictions: [[1. 0.]]\n"
     ]
    }
   ],
   "source": [
    "#  predicton of the model\n",
    "prediction=model.predict(img_data)\n",
    "output = \"\"\n",
    "if prediction[0][0]>prediction[0][1]: #Printing the prediction of model.\n",
    "\tprint('Person is safe.')\n",
    "\toutput = 'Person is safe.'\n",
    "else:\n",
    "\tprint('Person is affected with Pneumonia.')\n",
    "\toutput = 'Person is affected with Pneumonia.'\n",
    "print(f'Predictions: {prediction}')\n"
   ]
  },
  {
   "cell_type": "code",
   "execution_count": 25,
   "metadata": {},
   "outputs": [
    {
     "data": {
      "text/plain": [
       "'Person is safe.'"
      ]
     },
     "execution_count": 25,
     "metadata": {},
     "output_type": "execute_result"
    }
   ],
   "source": [
    "output"
   ]
  },
  {
   "cell_type": "code",
   "execution_count": null,
   "metadata": {},
   "outputs": [],
   "source": []
  }
 ],
 "metadata": {
  "kernelspec": {
   "display_name": "Python 3",
   "language": "python",
   "name": "python3"
  },
  "language_info": {
   "codemirror_mode": {
    "name": "ipython",
    "version": 3
   },
   "file_extension": ".py",
   "mimetype": "text/x-python",
   "name": "python",
   "nbconvert_exporter": "python",
   "pygments_lexer": "ipython3",
   "version": "3.9.0 (tags/v3.9.0:9cf6752, Oct  5 2020, 15:34:40) [MSC v.1927 64 bit (AMD64)]"
  },
  "orig_nbformat": 4,
  "vscode": {
   "interpreter": {
    "hash": "11938c6bc6919ae2720b4d5011047913343b08a43b18698fd82dedb0d4417594"
   }
  }
 },
 "nbformat": 4,
 "nbformat_minor": 2
}
